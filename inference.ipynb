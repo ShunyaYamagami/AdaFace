{
 "cells": [
  {
   "cell_type": "code",
   "execution_count": 1,
   "metadata": {},
   "outputs": [],
   "source": [
    "from glob import glob\n",
    "from pathlib import Path\n",
    "from face_alignment import align\n",
    "from inference import load_pretrained_model, to_input\n",
    "\n",
    "architecture = 'ir_50'\n",
    "pretrained_path = '/home/s3-subtitle-download/pretrained_models/AdaFace/adaface_ir50_ms1mv2.ckpt'\n",
    "model = load_pretrained_model(architecture, pretrained_path)"
   ]
  },
  {
   "cell_type": "markdown",
   "metadata": {},
   "source": [
    "### ONNX batch"
   ]
  },
  {
   "cell_type": "code",
   "execution_count": null,
   "metadata": {},
   "outputs": [],
   "source": [
    "import torch\n",
    "import onnxruntime as ort\n",
    "\n",
    "ONNX_PATH = 'adaface.onnx'\n",
    "\n",
    "paths = glob('_test/*.jpg')\n",
    "\n",
    "faces = []\n",
    "for path in paths:\n",
    "    aligned_rgb_img = align.get_aligned_face(path)\n",
    "    bgr_input = to_input(aligned_rgb_img)\n",
    "    faces.append(bgr_input)\n",
    "\n",
    "faces = torch.cat(faces, dim=0)\n",
    "\n",
    "ort_session = ort.InferenceSession(ONNX_PATH)\n",
    "input_name = ort_session.get_inputs()[0].name\n",
    "input_data = faces.numpy()\n",
    "features = ort_session.run(None, {input_name: input_data})\n",
    "features = features[0]\n",
    "\n",
    "names = [Path(path).stem for path in paths]\n",
    "features = {name: torch.tensor(feature).unsqueeze(0) for name, feature in zip(names, features)}"
   ]
  },
  {
   "cell_type": "markdown",
   "metadata": {},
   "source": [
    "### single image"
   ]
  },
  {
   "cell_type": "code",
   "execution_count": 3,
   "metadata": {},
   "outputs": [],
   "source": [
    "# features = {}\n",
    "# for path in glob('_test/*.jpg'):\n",
    "#     aligned_rgb_img = align.get_aligned_face(path)\n",
    "#     bgr_input = to_input(aligned_rgb_img)\n",
    "#     feature, _ = model(bgr_input)\n",
    "#     features[Path(path).stem] = feature"
   ]
  },
  {
   "cell_type": "markdown",
   "metadata": {},
   "source": [
    "### multiple images, bath processing"
   ]
  },
  {
   "cell_type": "code",
   "execution_count": 4,
   "metadata": {},
   "outputs": [],
   "source": [
    "# # multiple images, bath processing\n",
    "# import torch\n",
    "# paths = glob('_test/*.jpg')\n",
    "\n",
    "# faces = []\n",
    "# for path in paths:\n",
    "#     aligned_rgb_img = align.get_aligned_face(path)\n",
    "#     bgr_input = to_input(aligned_rgb_img)\n",
    "#     faces.append(bgr_input)\n",
    "\n",
    "# faces = torch.cat(faces, dim=0)\n",
    "# features = model(faces)[0]\n",
    "\n",
    "# names = [Path(path).stem for path in paths]\n",
    "# features = {name: feature.unsqueeze(0) for name, feature in zip(names, features)}"
   ]
  },
  {
   "cell_type": "code",
   "execution_count": 5,
   "metadata": {},
   "outputs": [
    {
     "name": "stdout",
     "output_type": "stream",
     "text": [
      "hasegawa, hasegawa\t1.0000\n",
      "hasegawa, taka    \t-0.0315\n",
      "hasegawa, watanabe\t0.0633\n",
      "hasegawa, toshi   \t-0.0307\n",
      "taka    , hasegawa\t-0.0315\n",
      "taka    , taka    \t1.0000\n",
      "taka    , watanabe\t-0.0136\n",
      "taka    , toshi   \t0.1365\n",
      "watanabe, hasegawa\t0.0633\n",
      "watanabe, taka    \t-0.0136\n",
      "watanabe, watanabe\t1.0000\n",
      "watanabe, toshi   \t-0.0458\n",
      "toshi   , hasegawa\t-0.0307\n",
      "toshi   , taka    \t0.1365\n",
      "toshi   , watanabe\t-0.0458\n",
      "toshi   , toshi   \t1.0000\n"
     ]
    }
   ],
   "source": [
    "# calculate similarity\n",
    "import torch.nn.functional as F\n",
    "for name1, feature1 in features.items():\n",
    "    for name2, feature2 in features.items():\n",
    "        print(f'{name1:8}, {name2:8}\\t{F.cosine_similarity(feature1, feature2).item():.4f}')"
   ]
  },
  {
   "cell_type": "markdown",
   "metadata": {},
   "source": [
    "# Comparison to FaceRecognition"
   ]
  },
  {
   "cell_type": "code",
   "execution_count": 6,
   "metadata": {},
   "outputs": [
    {
     "name": "stdout",
     "output_type": "stream",
     "text": [
      "hasegawa, hasegawa\t1.0000\n",
      "hasegawa, taka    \t0.8935\n",
      "hasegawa, watanabe\t0.8884\n",
      "hasegawa, toshi   \t0.8968\n",
      "taka    , hasegawa\t0.8935\n",
      "taka    , taka    \t1.0000\n",
      "taka    , watanabe\t0.9072\n",
      "taka    , toshi   \t0.9405\n",
      "watanabe, hasegawa\t0.8884\n",
      "watanabe, taka    \t0.9072\n",
      "watanabe, watanabe\t1.0000\n",
      "watanabe, toshi   \t0.9070\n",
      "toshi   , hasegawa\t0.8968\n",
      "toshi   , taka    \t0.9405\n",
      "toshi   , watanabe\t0.9070\n",
      "toshi   , toshi   \t1.0000\n"
     ]
    }
   ],
   "source": [
    "import torch\n",
    "import face_recognition\n",
    "fr_features = {}\n",
    "for path in glob('_test/*.jpg'):\n",
    "    img = face_recognition.load_image_file(path)\n",
    "    ft = face_recognition.face_encodings(img)\n",
    "    fr_features[Path(path).stem] = torch.tensor(ft)\n",
    "\n",
    "for name1, feature1 in fr_features.items():\n",
    "    for name2, feature2 in fr_features.items():\n",
    "        print(f'{name1:8}, {name2:8}\\t{F.cosine_similarity(feature1, feature2).item():.4f}')"
   ]
  }
 ],
 "metadata": {
  "kernelspec": {
   "display_name": "asd",
   "language": "python",
   "name": "python3"
  },
  "language_info": {
   "codemirror_mode": {
    "name": "ipython",
    "version": 3
   },
   "file_extension": ".py",
   "mimetype": "text/x-python",
   "name": "python",
   "nbconvert_exporter": "python",
   "pygments_lexer": "ipython3",
   "version": "3.11.5"
  }
 },
 "nbformat": 4,
 "nbformat_minor": 2
}
