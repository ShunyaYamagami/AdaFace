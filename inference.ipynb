{
 "cells": [
  {
   "cell_type": "code",
   "execution_count": 1,
   "metadata": {},
   "outputs": [],
   "source": [
    "from glob import glob\n",
    "from pathlib import Path\n",
    "from src.adaface.face_alignment import align\n",
    "from src.adaface.inference import load_pretrained_model, to_input\n",
    "\n",
    "# architecture = 'ir_50'\n",
    "# pretrained_path = '/home/s3-subtitle-download/pretrained_models/AdaFace/adaface_ir50_ms1mv2.ckpt'\n",
    "# model = load_pretrained_model(architecture, pretrained_path)"
   ]
  },
  {
   "cell_type": "markdown",
   "metadata": {},
   "source": [
    "# ONNX\n",
    "\n",
    "### ONNX batch\n"
   ]
  },
  {
   "cell_type": "code",
   "execution_count": 2,
   "metadata": {},
   "outputs": [],
   "source": [
    "from PIL import Image\n",
    "import torch\n",
    "import onnxruntime as ort\n",
    "from src.adaface.main import AdaFace\n",
    "\n",
    "# ONNX_PATH = 'adaface.onnx'\n",
    "ONNX_PATH = \"/home/s3-subtitle-download/pretrained_models/AdaFace/adaface.onnx\"\n",
    "\n",
    "adaface = AdaFace(ONNX_PATH)\n",
    "\n",
    "is_face = False\n",
    "paths = sorted(glob(\"_test/*.jpg\"))\n",
    "\n",
    "# is_face = True  # もともとfaceがクロップされた画像か（クロップされた画像の場合, 顔検出がうまくいかないことがある）\n",
    "# paths = sorted(glob('_test/cropped_face/*.jpg'), key=lambda x: int(Path(x).stem))\n",
    "\n",
    "cropped_face_images = []\n",
    "for path in paths:\n",
    "    if is_face:\n",
    "        cropped_face_image = Image.open(path).convert(\"RGB\")\n",
    "    else:\n",
    "        cropped_face_image = align.get_aligned_face(path)\n",
    "    cropped_face_images.append(cropped_face_image)\n",
    "\n",
    "features = adaface.extract_features(cropped_face_images)\n",
    "\n",
    "names = [Path(path).stem for path in paths]\n",
    "features = {name: torch.tensor(feature).unsqueeze(0) for name, feature in zip(names, features)}"
   ]
  },
  {
   "cell_type": "markdown",
   "metadata": {},
   "source": [
    "# Checkpoint\n",
    "\n",
    "### single image\n"
   ]
  },
  {
   "cell_type": "code",
   "execution_count": 3,
   "metadata": {},
   "outputs": [],
   "source": [
    "# features = {}\n",
    "# for path in glob('_test/*.jpg'):\n",
    "#     aligned_rgb_img = align.get_aligned_face(path)\n",
    "#     bgr_input = to_input(aligned_rgb_img)\n",
    "#     feature, _ = model(bgr_input)\n",
    "#     features[Path(path).stem] = feature"
   ]
  },
  {
   "cell_type": "markdown",
   "metadata": {},
   "source": [
    "### multiple images, bath processing\n"
   ]
  },
  {
   "cell_type": "code",
   "execution_count": 4,
   "metadata": {},
   "outputs": [],
   "source": [
    "# # multiple images, bath processing\n",
    "# import torch\n",
    "# paths = glob('_test/*.jpg')\n",
    "\n",
    "# faces = []\n",
    "# for path in paths:\n",
    "#     aligned_rgb_img = align.get_aligned_face(path)\n",
    "#     bgr_input = to_input(aligned_rgb_img)\n",
    "#     faces.append(bgr_input)\n",
    "\n",
    "# faces = torch.cat(faces, dim=0)\n",
    "# features = model(faces)[0]\n",
    "\n",
    "# names = [Path(path).stem for path in paths]\n",
    "# features = {name: feature.unsqueeze(0) for name, feature in zip(names, features)}"
   ]
  },
  {
   "cell_type": "markdown",
   "metadata": {},
   "source": [
    "# Calculate Similarity\n"
   ]
  },
  {
   "cell_type": "code",
   "execution_count": 5,
   "metadata": {},
   "outputs": [
    {
     "name": "stdout",
     "output_type": "stream",
     "text": [
      "hasegawa, hasegawa\t1.0000\n",
      "hasegawa, hasegawa_60\t0.0286\n",
      "hasegawa, taka    \t-0.0336\n",
      "hasegawa, toshi   \t-0.0363\n",
      "hasegawa, watanabe\t0.0641\n",
      "hasegawa_60, hasegawa\t0.0286\n",
      "hasegawa_60, hasegawa_60\t1.0000\n",
      "hasegawa_60, taka    \t0.0104\n",
      "hasegawa_60, toshi   \t-0.0299\n",
      "hasegawa_60, watanabe\t0.4554\n",
      "taka    , hasegawa\t-0.0336\n",
      "taka    , hasegawa_60\t0.0104\n",
      "taka    , taka    \t1.0000\n",
      "taka    , toshi   \t0.1356\n",
      "taka    , watanabe\t-0.0112\n",
      "toshi   , hasegawa\t-0.0363\n",
      "toshi   , hasegawa_60\t-0.0299\n",
      "toshi   , taka    \t0.1356\n",
      "toshi   , toshi   \t1.0000\n",
      "toshi   , watanabe\t-0.0475\n",
      "watanabe, hasegawa\t0.0641\n",
      "watanabe, hasegawa_60\t0.4554\n",
      "watanabe, taka    \t-0.0112\n",
      "watanabe, toshi   \t-0.0475\n",
      "watanabe, watanabe\t1.0000\n"
     ]
    }
   ],
   "source": [
    "# calculate similarity\n",
    "import torch.nn.functional as F\n",
    "\n",
    "for name1, feature1 in features.items():\n",
    "    for name2, feature2 in features.items():\n",
    "        print(f\"{name1:8}, {name2:8}\\t{F.cosine_similarity(feature1, feature2).item():.4f}\")"
   ]
  },
  {
   "cell_type": "markdown",
   "metadata": {},
   "source": [
    "# Comparison to FaceRecognition\n"
   ]
  },
  {
   "cell_type": "code",
   "execution_count": 6,
   "metadata": {},
   "outputs": [],
   "source": [
    "# import torch\n",
    "# import face_recognition\n",
    "# fr_features = {}\n",
    "# for path in glob('_test/*.jpg'):\n",
    "#     img = face_recognition.load_image_file(path)\n",
    "#     ft = face_recognition.face_encodings(img)\n",
    "#     fr_features[Path(path).stem] = torch.tensor(ft)\n",
    "# #\n",
    "# for name1, feature1 in fr_features.items():\n",
    "#     for name2, feature2 in fr_features.items():\n",
    "#         print(f'{name1:8}, {name2:8}\\t{F.cosine_similarity(feature1, feature2).item():.4f}')"
   ]
  }
 ],
 "metadata": {
  "kernelspec": {
   "display_name": "asd",
   "language": "python",
   "name": "python3"
  },
  "language_info": {
   "codemirror_mode": {
    "name": "ipython",
    "version": 3
   },
   "file_extension": ".py",
   "mimetype": "text/x-python",
   "name": "python",
   "nbconvert_exporter": "python",
   "pygments_lexer": "ipython3",
   "version": "3.11.7"
  }
 },
 "nbformat": 4,
 "nbformat_minor": 2
}
