{
 "cells": [
  {
   "cell_type": "code",
   "execution_count": null,
   "metadata": {},
   "outputs": [],
   "source": [
    "from glob import glob\n",
    "from pathlib import Path\n",
    "from face_alignment import align\n",
    "from inference import load_pretrained_model, to_input\n",
    "\n",
    "# architecture = 'ir_50'\n",
    "# pretrained_path = '/home/s3-subtitle-download/pretrained_models/AdaFace/adaface_ir50_ms1mv2.ckpt'\n",
    "# model = load_pretrained_model(architecture, pretrained_path)"
   ]
  },
  {
   "cell_type": "markdown",
   "metadata": {},
   "source": [
    "# ONNX\n",
    "\n",
    "### ONNX batch\n"
   ]
  },
  {
   "cell_type": "code",
   "execution_count": null,
   "metadata": {},
   "outputs": [],
   "source": [
    "from PIL import Image\n",
    "import torch\n",
    "import onnxruntime as ort\n",
    "\n",
    "# ONNX_PATH = 'adaface.onnx'\n",
    "ONNX_PATH = '/home/s3-subtitle-download/pretrained_models/AdaFace/adaface.onnx'\n",
    "\n",
    "SIZE = (112, 112)\n",
    "\n",
    "is_face = False\n",
    "paths = sorted(glob('_test/*.jpg'))\n",
    "\n",
    "# is_face = True  # もともとfaceがクロップされた画像か（クロップされた画像の場合, 顔検出がうまくいかないことがある）\n",
    "# paths = sorted(glob('_test/cropped_face/*.jpg'), key=lambda x: int(Path(x).stem))\n",
    "\n",
    "faces = []\n",
    "for path in paths:\n",
    "    if is_face:\n",
    "        face_pil_img = Image.open(path).convert('RGB').resize(SIZE)\n",
    "    else:\n",
    "        face_pil_img = align.get_aligned_face(path)\n",
    "    bgr_input = to_input(face_pil_img)\n",
    "    faces.append(bgr_input)\n",
    "\n",
    "faces = torch.cat(faces, dim=0)\n",
    "\n",
    "ort_session = ort.InferenceSession(ONNX_PATH)\n",
    "input_name = ort_session.get_inputs()[0].name\n",
    "input_data = faces.numpy()\n",
    "features = ort_session.run(None, {input_name: input_data})\n",
    "features = features[0]\n",
    "\n",
    "names = [Path(path).stem for path in paths]\n",
    "features = {name: torch.tensor(feature).unsqueeze(0) for name, feature in zip(names, features)}"
   ]
  },
  {
   "cell_type": "markdown",
   "metadata": {},
   "source": [
    "# Checkpoint\n",
    "\n",
    "### single image\n"
   ]
  },
  {
   "cell_type": "code",
   "execution_count": null,
   "metadata": {},
   "outputs": [],
   "source": [
    "# features = {}\n",
    "# for path in glob('_test/*.jpg'):\n",
    "#     aligned_rgb_img = align.get_aligned_face(path)\n",
    "#     bgr_input = to_input(aligned_rgb_img)\n",
    "#     feature, _ = model(bgr_input)\n",
    "#     features[Path(path).stem] = feature"
   ]
  },
  {
   "cell_type": "markdown",
   "metadata": {},
   "source": [
    "### multiple images, bath processing\n"
   ]
  },
  {
   "cell_type": "code",
   "execution_count": null,
   "metadata": {},
   "outputs": [],
   "source": [
    "# # multiple images, bath processing\n",
    "# import torch\n",
    "# paths = glob('_test/*.jpg')\n",
    "\n",
    "# faces = []\n",
    "# for path in paths:\n",
    "#     aligned_rgb_img = align.get_aligned_face(path)\n",
    "#     bgr_input = to_input(aligned_rgb_img)\n",
    "#     faces.append(bgr_input)\n",
    "\n",
    "# faces = torch.cat(faces, dim=0)\n",
    "# features = model(faces)[0]\n",
    "\n",
    "# names = [Path(path).stem for path in paths]\n",
    "# features = {name: feature.unsqueeze(0) for name, feature in zip(names, features)}"
   ]
  },
  {
   "cell_type": "markdown",
   "metadata": {},
   "source": [
    "# Calculate Similarity\n"
   ]
  },
  {
   "cell_type": "code",
   "execution_count": null,
   "metadata": {},
   "outputs": [],
   "source": [
    "# calculate similarity\n",
    "import torch.nn.functional as F\n",
    "for name1, feature1 in features.items():\n",
    "    for name2, feature2 in features.items():\n",
    "        print(f'{name1:8}, {name2:8}\\t{F.cosine_similarity(feature1, feature2).item():.4f}')"
   ]
  },
  {
   "cell_type": "markdown",
   "metadata": {},
   "source": [
    "# Comparison to FaceRecognition\n"
   ]
  },
  {
   "cell_type": "code",
   "execution_count": null,
   "metadata": {},
   "outputs": [],
   "source": [
    "# import torch\n",
    "# import face_recognition\n",
    "# fr_features = {}\n",
    "# for path in glob('_test/*.jpg'):\n",
    "#     img = face_recognition.load_image_file(path)\n",
    "#     ft = face_recognition.face_encodings(img)\n",
    "#     fr_features[Path(path).stem] = torch.tensor(ft)\n",
    "# # \n",
    "# for name1, feature1 in fr_features.items():\n",
    "#     for name2, feature2 in fr_features.items():\n",
    "#         print(f'{name1:8}, {name2:8}\\t{F.cosine_similarity(feature1, feature2).item():.4f}')"
   ]
  }
 ],
 "metadata": {
  "kernelspec": {
   "display_name": "asd",
   "language": "python",
   "name": "python3"
  },
  "language_info": {
   "codemirror_mode": {
    "name": "ipython",
    "version": 3
   },
   "file_extension": ".py",
   "mimetype": "text/x-python",
   "name": "python",
   "nbconvert_exporter": "python",
   "pygments_lexer": "ipython3",
   "version": "3.11.7"
  }
 },
 "nbformat": 4,
 "nbformat_minor": 2
}
