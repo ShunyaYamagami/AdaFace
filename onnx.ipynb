{
 "cells": [
  {
   "cell_type": "markdown",
   "metadata": {},
   "source": [
    "# Export ONNX"
   ]
  },
  {
   "cell_type": "code",
   "execution_count": null,
   "metadata": {},
   "outputs": [],
   "source": [
    "from glob import glob\n",
    "from pathlib import Path\n",
    "from face_alignment import align\n",
    "from inference import load_pretrained_model, to_input\n",
    "\n",
    "architecture = 'ir_50'\n",
    "pretrained_path = '/home/s3-subtitle-download/pretrained_models/AdaFace/adaface_ir50_ms1mv2.ckpt'\n",
    "model = load_pretrained_model(architecture, pretrained_path)"
   ]
  },
  {
   "cell_type": "code",
   "execution_count": null,
   "metadata": {},
   "outputs": [],
   "source": [
    "path = glob('_test/*.jpg')[0]\n",
    "aligned_rgb_img = align.get_aligned_face(path)\n",
    "bgr_input = to_input(aligned_rgb_img)\n",
    "bgr_input.shape"
   ]
  },
  {
   "cell_type": "code",
   "execution_count": null,
   "metadata": {},
   "outputs": [],
   "source": [
    "import torch\n",
    "ONNX_PATH = 'adaface.onnx'\n",
    "\n",
    "dummy_input = torch.randn(bgr_input.shape)\n",
    "\n",
    "# エクスポート時に動的軸を設定 (バッチサイズの次元を動的に)\n",
    "torch.onnx.export(model, dummy_input, ONNX_PATH, \n",
    "                  input_names=['input'], \n",
    "                  output_names=['output'], \n",
    "                  dynamic_axes={'input' : {0 : 'batch_size'},  # バッチサイズの次元を動的に\n",
    "                                'output' : {0 : 'batch_size'}})"
   ]
  },
  {
   "cell_type": "code",
   "execution_count": null,
   "metadata": {},
   "outputs": [],
   "source": [
    "import onnxruntime as ort\n",
    "\n",
    "# ONNXランタイムセッションを作成\n",
    "ort_session = ort.InferenceSession(ONNX_PATH)\n",
    "input_name = ort_session.get_inputs()[0].name\n",
    "\n",
    "input_data = bgr_input.numpy()\n",
    "output = ort_session.run(None, {input_name: input_data})\n"
   ]
  }
 ],
 "metadata": {
  "kernelspec": {
   "display_name": "asd",
   "language": "python",
   "name": "python3"
  },
  "language_info": {
   "codemirror_mode": {
    "name": "ipython",
    "version": 3
   },
   "file_extension": ".py",
   "mimetype": "text/x-python",
   "name": "python",
   "nbconvert_exporter": "python",
   "pygments_lexer": "ipython3",
   "version": "3.11.5"
  }
 },
 "nbformat": 4,
 "nbformat_minor": 2
}
